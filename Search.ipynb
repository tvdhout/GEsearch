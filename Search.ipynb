{
 "cells": [
  {
   "cell_type": "code",
   "execution_count": 33,
   "metadata": {},
   "outputs": [],
   "source": [
    "import numpy as np\n",
    "import pandas as pd\n",
    "import nltk\n",
    "from ipywidgets import widgets\n",
    "from IPython.display import display, clear_output"
   ]
  },
  {
   "cell_type": "code",
   "execution_count": 34,
   "metadata": {},
   "outputs": [],
   "source": [
    "itemlist = list(pd.read_csv('itemlist.csv', sep=';'))"
   ]
  },
  {
   "cell_type": "code",
   "execution_count": 23,
   "metadata": {},
   "outputs": [],
   "source": [
    "bigramlist = [[b[i:i+2] for i in range(len(b)-2+1)] for b in itemlist]\n",
    "trigramlist = [[b[i:i+3] for i in range(len(b)-3+1)] for b in itemlist]"
   ]
  },
  {
   "cell_type": "code",
   "execution_count": 24,
   "metadata": {},
   "outputs": [],
   "source": [
    "def get_bigrams(q):\n",
    "    return [q[i:i+2] for i in range(len(q)-2+1)]\n",
    "\n",
    "def get_trigrams(q):\n",
    "    return [q[i:i+3] for i in range(len(q)-3+1)]"
   ]
  },
  {
   "cell_type": "code",
   "execution_count": 35,
   "metadata": {},
   "outputs": [],
   "source": [
    "def get_sorted_items(q):\n",
    "    clear_output()\n",
    "    display(text)\n",
    "    query = q.value\n",
    "    bigrams = get_bigrams(query)\n",
    "    trigrams = get_trigrams(query)\n",
    "    counts = [(len(set(query) & set(itemlist[i])) / len(set(query))) * (len(set(bigrams) & set(bigramlist[i])) \\\n",
    "              + len(set(trigrams) & set(trigramlist[i]))) for i in range(len(itemlist))]\n",
    "    sorted_items = [item for _,item in sorted(zip(counts,itemlist), reverse=True)]\n",
    "    for i in range(10):\n",
    "        print(sorted_items[i])\n",
    "    return sorted_items"
   ]
  },
  {
   "cell_type": "code",
   "execution_count": 36,
   "metadata": {},
   "outputs": [
    {
     "data": {
      "application/vnd.jupyter.widget-view+json": {
       "model_id": "9158e9e29fa24f72baa27cc8d18cf7dc",
       "version_major": 2,
       "version_minor": 0
      },
      "text/plain": [
       "Text(value='adamatn ore')"
      ]
     },
     "metadata": {},
     "output_type": "display_data"
    },
    {
     "name": "stdout",
     "output_type": "stream",
     "text": [
      "Adamantite ore\n",
      "Saradomin godsword ornament kit\n",
      "Dragon platebody ornament kit\n",
      "Armadyl godsword ornament kit\n",
      "Adamant javelin heads\n",
      "Adamant sword\n",
      "Adamant plateskirt (t)\n",
      "Adamant plateskirt (g)\n",
      "Adamant plateskirt\n",
      "Adamant platebody (t)\n"
     ]
    }
   ],
   "source": [
    "text = widgets.Text()\n",
    "text.on_submit(get_sorted_items)\n",
    "display(text)"
   ]
  },
  {
   "cell_type": "code",
   "execution_count": null,
   "metadata": {},
   "outputs": [],
   "source": []
  },
  {
   "cell_type": "code",
   "execution_count": null,
   "metadata": {},
   "outputs": [],
   "source": []
  }
 ],
 "metadata": {
  "kernelspec": {
   "display_name": "Python 3",
   "language": "python",
   "name": "python3"
  },
  "language_info": {
   "codemirror_mode": {
    "name": "ipython",
    "version": 3
   },
   "file_extension": ".py",
   "mimetype": "text/x-python",
   "name": "python",
   "nbconvert_exporter": "python",
   "pygments_lexer": "ipython3",
   "version": "3.7.0"
  }
 },
 "nbformat": 4,
 "nbformat_minor": 2
}
